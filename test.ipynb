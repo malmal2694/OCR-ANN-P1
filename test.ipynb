{
 "cells": [
  {
   "cell_type": "code",
   "execution_count": 1,
   "metadata": {},
   "outputs": [],
   "source": [
    "from PIL import Image, ImageDraw, ImageFont\n",
    "\n",
    "# font = ImageFont.truetype(\"../training/fonts/IranNastaliq.ttf\", 150)\n",
    "im = Image.new(\"RGB\", (4000, 800), \"white\")\n",
    "# d = ImageDraw.Draw(im)\n",
    "text = \"واژهٓ كَزَعْمِ عریانیده‌ای بخشش‌طلبی بی،۱ماران توسکلانی سود،مرگ محرابگه خلفیش ٱرْحَمْهُمَا انگولا شد،فريادش بهرام‌شاه میرزااحمد‌خان بهره‌می‌برد\"\n",
    "# d.text((200, 200), text, fill=\"black\", anchor=\"ms\", font=font)\n",
    "im.save(\"img.jpg\")"
   ]
  },
  {
   "cell_type": "code",
   "execution_count": 4,
   "metadata": {},
   "outputs": [],
   "source": [
    "# Python program to explain cv2.putText() method\n",
    "    \n",
    "# importing cv2\n",
    "import cv2\n",
    "    \n",
    "# path\n",
    "# path = r'C:\\Users\\Rajnish\\Desktop\\geeksforgeeks\\geeks.png'\n",
    "path = 'img.jpg'\n",
    "\n",
    "# Reading an image in default mode\n",
    "image = cv2.imread(path)\n",
    "    \n",
    "# Window name in which image is displayed\n",
    "window_name = 'Image'\n",
    "  \n",
    "# text\n",
    "# text = 'GeeksforGeeks'\n",
    "  \n",
    "# font\n",
    "font = cv2.FONT_HERSHEY_SIMPLEX\n",
    "  \n",
    "# org\n",
    "org = (00, 185)\n",
    "  \n",
    "# fontScale\n",
    "fontScale = 1\n",
    "   \n",
    "# Red color in BGR\n",
    "color = (0, 0, 255)\n",
    "  \n",
    "# Line thickness of 2 px\n",
    "thickness = 2\n",
    "   \n",
    "# Using cv2.putText() method\n",
    "image = cv2.putText(image, text, org, font, fontScale, \n",
    "                 color, thickness, cv2.LINE_AA, False)\n",
    "  \n",
    "  \n",
    "cv2.waitKey(0)\n",
    "# Displaying the image\n",
    "cv2.imshow(window_name, image) "
   ]
  },
  {
   "cell_type": "code",
   "execution_count": null,
   "metadata": {},
   "outputs": [],
   "source": []
  }
 ],
 "metadata": {
  "kernelspec": {
   "display_name": "Python 3.10.4 ('OCR-ANN-P1': venv)",
   "language": "python",
   "name": "python3"
  },
  "language_info": {
   "codemirror_mode": {
    "name": "ipython",
    "version": 3
   },
   "file_extension": ".py",
   "mimetype": "text/x-python",
   "name": "python",
   "nbconvert_exporter": "python",
   "pygments_lexer": "ipython3",
   "version": "3.10.4"
  },
  "orig_nbformat": 4,
  "vscode": {
   "interpreter": {
    "hash": "677271b2a7d4ca3f834cc050520c0b805cd8aebc2b47f40983d789188483fa89"
   }
  }
 },
 "nbformat": 4,
 "nbformat_minor": 2
}
